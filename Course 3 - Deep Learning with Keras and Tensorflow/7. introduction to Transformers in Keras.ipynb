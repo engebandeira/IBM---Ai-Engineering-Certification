{
 "cells": [
  {
   "cell_type": "code",
   "execution_count": 1,
   "id": "be7b81d9",
   "metadata": {},
   "outputs": [],
   "source": [
    "import tensorflow as tf\n",
    "from tensorflow.keras.layers import Layer"
   ]
  },
  {
   "cell_type": "markdown",
   "id": "33be6649",
   "metadata": {},
   "source": [
    "## Self Attention Calculation"
   ]
  },
  {
   "cell_type": "code",
   "execution_count": 2,
   "id": "b17562fb",
   "metadata": {},
   "outputs": [],
   "source": [
    "class SelfAttention(Layer):\n",
    "    def __init__(self, d_model):\n",
    "        super(SelfAttention, self).__init__()\n",
    "        self.d_model = d_model\n",
    "        self.query_dense = tf.keras.layers.Dense(d_model)\n",
    "        self.key_dense = tf.keras.layers.Dense(d_model)\n",
    "        self.value_dense = tf.keras.layers.Dense(d_model)\n",
    "\n",
    "    def call(self, inputs):\n",
    "        q = self.query_dense(inputs)\n",
    "        k = self.key_dense(inputs)\n",
    "        v = self.value_dense(inputs)\n",
    "\n",
    "        attention_weights = tf.nn.softmax(tf.matmul(q, k, transpose_b = True) / \n",
    "        tf.math.sqrt(tf.cast(self.d_model, tf.float32)), axis = 1)\n",
    "        output = tf.matmul(attention_weights, v)\n",
    "\n",
    "        return output"
   ]
  },
  {
   "cell_type": "code",
   "execution_count": 3,
   "id": "a066252a",
   "metadata": {},
   "outputs": [
    {
     "name": "stdout",
     "output_type": "stream",
     "text": [
      "(1, 60, 512)\n"
     ]
    }
   ],
   "source": [
    "inputs = tf.random.uniform((1, 60, 512)) # batch size of 1, sequence length of 60, and model dimensin of 512\n",
    "self_attention = SelfAttention(d_model=512)\n",
    "output = self_attention(inputs)\n",
    "print(output.shape)"
   ]
  },
  {
   "cell_type": "markdown",
   "id": "1bbe4789",
   "metadata": {},
   "source": [
    "## Transformer encoder"
   ]
  },
  {
   "cell_type": "code",
   "execution_count": 7,
   "id": "fa8196d3",
   "metadata": {},
   "outputs": [],
   "source": [
    "class TransformerEncoder(Layer):\n",
    "    def __init__(self, d_model, num_heads, dff, rate = 0.1):\n",
    "        super(TransformerEncoder, self).__init__()\n",
    "\n",
    "        self.mha = tf.keras.layers.MultiHeadAttention(num_heads=num_heads, key_dim=d_model)\n",
    "        self.ffn = tf.keras.Sequential([tf.keras.layers.Dense(dff, activation='relu'),\n",
    "             tf.keras.layers.Dense(d_model)])\n",
    "        \n",
    "        self.layernorm1 = tf.keras.layers.LayerNormalization(epsilon=1e-6)\n",
    "        self.layernorm2 = tf.keras.layers.LayerNormalization(epsilon=1e-6)\n",
    "        self.dropout1 = tf.keras.layers.Dropout(rate)\n",
    "        self.dropout2 = tf.keras.layers.Dropout(rate)\n",
    "\n",
    "        def call(self, x, training, mask):\n",
    "            attn_output = self.mha(x, x, x, attention_mask = mask) # Self Attention\n",
    "            attn_output = self.droput1(attn_output, training=training)\n",
    "            out1 = self.layernorm1(x + attn_output) # Residual connection and normalization\n",
    "\n",
    "            ffn_output = self.ffn(out1) # Feed Foward network\n",
    "            ffn_output = self.dropout2(ffn_output, training=training)\n",
    "            out2 = self.layernorm29out1 + ffn_output\n",
    "\n",
    "            return out2"
   ]
  },
  {
   "cell_type": "code",
   "execution_count": 8,
   "id": "32956af2",
   "metadata": {},
   "outputs": [],
   "source": [
    "encoder = TransformerEncoder(d_model=512, num_heads=8, dff=2048)\n",
    "x = tf.random.uniform((1, 60, 512))\n",
    "mask = None"
   ]
  },
  {
   "cell_type": "code",
   "execution_count": 10,
   "id": "bf47205f",
   "metadata": {},
   "outputs": [],
   "source": [
    "class TransformerDecoder(Layer):\n",
    "    def __init__(self, d_model, num_heads, dff, rate=0.1):\n",
    "        super(TransformerDecoder, self).__init__()\n",
    "\n",
    "        self.mha1 = tf.keras.layers.MultiHeadAttention(num_heads=num_heads, key_dim=d_model)\n",
    "        self.mha2 = tf.keras.layers.MultiHeadAttention(num_heads=num_heads, key_dim=d_model)\n",
    "        self.ffn = tf.keras.Sequential([\n",
    "            tf.keras.layers.Dense(dff, activation='relu'),\n",
    "            tf.keras.layers.Dense(d_model)\n",
    "        ])\n",
    "\n",
    "        self.layernorm1 = tf.keras.layers.LayerNormalization(epsilon=1e-6)\n",
    "        self.layernorm2 = tf.keras.layers.LayerNormalization(epsilon=1e-6)\n",
    "        self.layernorm3 = tf.keras.layers.LayerNormalization(epsilon=1e-6)\n",
    "        self.dropout1 = tf.keras.layers.Dropout(rate)\n",
    "\n",
    "        def call(self, x, enc_output, training, look_ahead_mask, padding_mask):\n",
    "            attn1 = self.mha1(x, x, attention_mask=look_ahead_mask)  # Self attention\n",
    "            attn1 = self.dropout1(attn1, training=training)\n",
    "            out1 = self.layernorm1(x + attn1)  # Residual connection and normalization\n",
    "\n",
    "            attn2 = self.mha2(out1, enc_output, enc_output, attention_mask=padding_mask)  # Cross attention\n",
    "            attn2 = self.dropout2(attn2, training=training)\n",
    "            out2 = self.layernorm2(out1 + attn2)  # Residual connection and normalization\n",
    "\n",
    "            ffn_output = self.ffn(out2)  # Feed forward network\n",
    "            ffn_output = self.dropout3(ffn_output, training=training)\n",
    "            out3 = self.layernorm3(out2 + ffn_output)  # Residual connection and normalization\n",
    "\n",
    "            return out3"
   ]
  }
 ],
 "metadata": {
  "kernelspec": {
   "display_name": "imb-ai-engineering-YFLZBaaa-py3.10",
   "language": "python",
   "name": "python3"
  },
  "language_info": {
   "codemirror_mode": {
    "name": "ipython",
    "version": 3
   },
   "file_extension": ".py",
   "mimetype": "text/x-python",
   "name": "python",
   "nbconvert_exporter": "python",
   "pygments_lexer": "ipython3",
   "version": "3.10.0"
  }
 },
 "nbformat": 4,
 "nbformat_minor": 5
}
