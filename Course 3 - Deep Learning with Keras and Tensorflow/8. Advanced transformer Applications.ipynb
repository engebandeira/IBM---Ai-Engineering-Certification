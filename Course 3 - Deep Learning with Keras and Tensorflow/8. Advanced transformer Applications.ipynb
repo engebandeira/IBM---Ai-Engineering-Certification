{
 "cells": [
  {
   "cell_type": "code",
   "execution_count": 1,
   "id": "d78df67c",
   "metadata": {},
   "outputs": [],
   "source": [
    "import tensorflow as tf\n",
    "from tensorflow.keras.layers import Layer, Dense, LayerNormalization, Dropout, Input, Flatten"
   ]
  },
  {
   "cell_type": "markdown",
   "id": "2082470e",
   "metadata": {},
   "source": [
    "# Vision transformer for image classification"
   ]
  },
  {
   "cell_type": "code",
   "execution_count": 5,
   "id": "4b85e28f",
   "metadata": {},
   "outputs": [],
   "source": [
    "# Define the TransformerBlock class\n",
    "class TransformerBlock(Layer):\n",
    "    def __init__(self, embed_dim, num_heads, ff_dim, rate=0.1):\n",
    "        super(TransformerBlock, self).__init__()\n",
    "\n",
    "        self.att = tf.keras.layers.MultiHeadAttention(num_heads=num_heads, key_dim=embed_dim)\n",
    "        self.ffn = tf.keras.Sequential([\n",
    "            Dense(ff_dim, activation=\"relu\"),\n",
    "            Dense(embed_dim),\n",
    "        ])\n",
    "\n",
    "        self.layernorm1 = LayerNormalization(epsilon=1e-6)\n",
    "        self.layernorm2 = LayerNormalization(epsilon=1e-6)\n",
    "        self.dropout1 = Dropout(rate)\n",
    "        self.dropout2 = Dropout(rate)\n",
    "\n",
    "    def call(self, inputs, training, mask=None):\n",
    "        attn_output = self.att(inputs, inputs, inputs, attention_mask=mask)\n",
    "        attn_output = self.dropout1(attn_output, training=training)\n",
    "        out1 = self.layernorm1(inputs + attn_output)\n",
    "        ffn_output = self.ffn(out1)\n",
    "        ffn_output = self.dropout2(ffn_output, training=training)\n",
    "        \n",
    "        return self.layernorm2(out1 + ffn_output)\n",
    "    \n",
    "# Define the PatchEmbedding layer\n",
    "class PatchEmbedding(Layer):\n",
    "    def __init__(self, num_patches, embedding_dim):\n",
    "        super(PatchEmbedding, self).__init__()\n",
    "        self.num_patches = num_patches\n",
    "        self.embedding_dim = embedding_dim\n",
    "        self.projection = Dense(embedding_dim)\n",
    "\n",
    "    def call(self, patches):\n",
    "        return self.projection(patches)\n",
    "    \n",
    "# Define the VisionTransformer model\n",
    "class VisionTransformer(tf.keras.Model):\n",
    "    def __init__(self, num_patches, embedding_dim, num_heads, ff_dim, num_layers, num_classes):\n",
    "        super(VisionTransformer, self).__init__()\n",
    "        self.patch_embed = PatchEmbedding(num_patches, embedding_dim)\n",
    "        self.transformer_layers = [TransformerBlock(embedding_dim, num_heads, ff_dim)\n",
    "                                   for _ in range(num_layers)]\n",
    "        self.flatten = Flatten()\n",
    "        self.dense = Dense(num_classes, activation='softmax')\n",
    "\n",
    "    def call(self, images, training):\n",
    "        patches = self.extract_patches(images)\n",
    "        x = self.patch_embed(patches)\n",
    "\n",
    "        for transformer_layer in self.transformer_layers:\n",
    "            x = transformer_layer(x, training=training)\n",
    "\n",
    "        x = self.flatten(x)\n",
    "        return self.dense(x)\n",
    "\n",
    "    def extract_patches(self, images):\n",
    "        batch_size = tf.shape(images)[0]\n",
    "        patches = tf.image.extract_patches(\n",
    "            images=images,\n",
    "            sizes=[1, 16, 16, 1],\n",
    "            strides=[1, 16, 16, 1],\n",
    "            rates=[1, 1, 1, 1],\n",
    "            padding='VALID')\n",
    "        \n",
    "        patches = tf.reshape(patches, [batch_size, -1, 16*16*3])\n",
    "        return patches"
   ]
  },
  {
   "cell_type": "code",
   "execution_count": null,
   "id": "820153aa",
   "metadata": {},
   "outputs": [
    {
     "name": "stdout",
     "output_type": "stream",
     "text": [
      "(32, 10)\n"
     ]
    }
   ],
   "source": [
    "num_patches = 196 # assuming 14x14 patches\n",
    "embedding_dim = 128\n",
    "num_heads = 4\n",
    "ff_dim = 512\n",
    "num_layers = 6\n",
    "num_classes = 10 # For CIFAR-10 dataset\n",
    "\n",
    "vit = VisionTransformer(num_patches, embedding_dim, num_heads, ff_dim, num_layers, num_classes)\n",
    "images = tf.random.uniform((32, 224, 224, 3)) # Batch of 32 images of size 224x224\n",
    "output = vit(images,training=True)\n",
    "print(output.shape) # Should print (32, 10)"
   ]
  },
  {
   "cell_type": "code",
   "execution_count": null,
   "id": "07b0e069",
   "metadata": {},
   "outputs": [],
   "source": []
  }
 ],
 "metadata": {
  "kernelspec": {
   "display_name": "imb-ai-engineering-YFLZBaaa-py3.10",
   "language": "python",
   "name": "python3"
  },
  "language_info": {
   "codemirror_mode": {
    "name": "ipython",
    "version": 3
   },
   "file_extension": ".py",
   "mimetype": "text/x-python",
   "name": "python",
   "nbconvert_exporter": "python",
   "pygments_lexer": "ipython3",
   "version": "3.10.0"
  }
 },
 "nbformat": 4,
 "nbformat_minor": 5
}
